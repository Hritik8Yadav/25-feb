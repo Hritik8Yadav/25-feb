{
 "cells": [
  {
   "cell_type": "code",
   "execution_count": 2,
   "id": "6a4dbc6a-7f95-4bcd-a246-f5579f756fe3",
   "metadata": {},
   "outputs": [],
   "source": [
    "import pandas as pd\n",
    "course_name = ['Data Science', 'Machine Learning', 'Big Data', 'Data Engineer']\n",
    "duration = [2,3,6,4]\n",
    "df = pd.DataFrame(data = {'course_name' : course_name, 'duration' : duration})"
   ]
  },
  {
   "cell_type": "code",
   "execution_count": 3,
   "id": "ed8e06bf-3e65-47e3-a02a-60dbf20f674a",
   "metadata": {},
   "outputs": [
    {
     "data": {
      "text/html": [
       "<div>\n",
       "<style scoped>\n",
       "    .dataframe tbody tr th:only-of-type {\n",
       "        vertical-align: middle;\n",
       "    }\n",
       "\n",
       "    .dataframe tbody tr th {\n",
       "        vertical-align: top;\n",
       "    }\n",
       "\n",
       "    .dataframe thead th {\n",
       "        text-align: right;\n",
       "    }\n",
       "</style>\n",
       "<table border=\"1\" class=\"dataframe\">\n",
       "  <thead>\n",
       "    <tr style=\"text-align: right;\">\n",
       "      <th></th>\n",
       "      <th>course_name</th>\n",
       "      <th>duration</th>\n",
       "    </tr>\n",
       "  </thead>\n",
       "  <tbody>\n",
       "    <tr>\n",
       "      <th>1</th>\n",
       "      <td>Machine Learning</td>\n",
       "      <td>3</td>\n",
       "    </tr>\n",
       "  </tbody>\n",
       "</table>\n",
       "</div>"
      ],
      "text/plain": [
       "        course_name  duration\n",
       "1  Machine Learning         3"
      ]
     },
     "execution_count": 3,
     "metadata": {},
     "output_type": "execute_result"
    }
   ],
   "source": [
    "#Ans1:\n",
    "df.loc[[1]]"
   ]
  },
  {
   "cell_type": "code",
   "execution_count": 4,
   "id": "83fc904e-7824-4bad-89fb-4485e7a15671",
   "metadata": {},
   "outputs": [],
   "source": [
    "#Ans2: (i). loc:- It is the function which is used to index any dataframe by using the rows and columns names. And passing them to the function itself.\n",
    "#    (ii). iloc:- It is the function which is used to do indexing of a dataframe by using the integer indexes of rows and columns."
   ]
  },
  {
   "cell_type": "code",
   "execution_count": 5,
   "id": "30c84fcf-0c0e-42b7-a2d6-33df606b48ff",
   "metadata": {},
   "outputs": [],
   "source": [
    "#Ans3:\n",
    "reindex=[3,0,1,2]\n",
    "new_df=df.reindex(reindex)"
   ]
  },
  {
   "cell_type": "code",
   "execution_count": 6,
   "id": "0c26d35f-24ae-4be5-ac58-1bf24fd9bb40",
   "metadata": {},
   "outputs": [
    {
     "data": {
      "text/html": [
       "<div>\n",
       "<style scoped>\n",
       "    .dataframe tbody tr th:only-of-type {\n",
       "        vertical-align: middle;\n",
       "    }\n",
       "\n",
       "    .dataframe tbody tr th {\n",
       "        vertical-align: top;\n",
       "    }\n",
       "\n",
       "    .dataframe thead th {\n",
       "        text-align: right;\n",
       "    }\n",
       "</style>\n",
       "<table border=\"1\" class=\"dataframe\">\n",
       "  <thead>\n",
       "    <tr style=\"text-align: right;\">\n",
       "      <th></th>\n",
       "      <th>course_name</th>\n",
       "      <th>duration</th>\n",
       "    </tr>\n",
       "  </thead>\n",
       "  <tbody>\n",
       "    <tr>\n",
       "      <th>2</th>\n",
       "      <td>Big Data</td>\n",
       "      <td>6</td>\n",
       "    </tr>\n",
       "  </tbody>\n",
       "</table>\n",
       "</div>"
      ],
      "text/plain": [
       "  course_name  duration\n",
       "2    Big Data         6"
      ]
     },
     "execution_count": 6,
     "metadata": {},
     "output_type": "execute_result"
    }
   ],
   "source": [
    "new_df.loc[[2]]"
   ]
  },
  {
   "cell_type": "code",
   "execution_count": 7,
   "id": "b3c7f412-3e8e-4807-b44e-448198a91edc",
   "metadata": {},
   "outputs": [
    {
     "data": {
      "text/html": [
       "<div>\n",
       "<style scoped>\n",
       "    .dataframe tbody tr th:only-of-type {\n",
       "        vertical-align: middle;\n",
       "    }\n",
       "\n",
       "    .dataframe tbody tr th {\n",
       "        vertical-align: top;\n",
       "    }\n",
       "\n",
       "    .dataframe thead th {\n",
       "        text-align: right;\n",
       "    }\n",
       "</style>\n",
       "<table border=\"1\" class=\"dataframe\">\n",
       "  <thead>\n",
       "    <tr style=\"text-align: right;\">\n",
       "      <th></th>\n",
       "      <th>course_name</th>\n",
       "      <th>duration</th>\n",
       "    </tr>\n",
       "  </thead>\n",
       "  <tbody>\n",
       "    <tr>\n",
       "      <th>1</th>\n",
       "      <td>Machine Learning</td>\n",
       "      <td>3</td>\n",
       "    </tr>\n",
       "  </tbody>\n",
       "</table>\n",
       "</div>"
      ],
      "text/plain": [
       "        course_name  duration\n",
       "1  Machine Learning         3"
      ]
     },
     "execution_count": 7,
     "metadata": {},
     "output_type": "execute_result"
    }
   ],
   "source": [
    "new_df.iloc[[2]]"
   ]
  },
  {
   "cell_type": "code",
   "execution_count": 8,
   "id": "a9928a7d-efb5-496c-a096-94ce9bd8b1d6",
   "metadata": {},
   "outputs": [],
   "source": [
    "# loc gives output by finding the row name '2' in the dataframe, while iloc gives output by finding the natural index of 2nd row."
   ]
  },
  {
   "cell_type": "code",
   "execution_count": 9,
   "id": "fee867c8-b268-44ae-ab80-99e8ba4220ce",
   "metadata": {},
   "outputs": [
    {
     "data": {
      "text/html": [
       "<div>\n",
       "<style scoped>\n",
       "    .dataframe tbody tr th:only-of-type {\n",
       "        vertical-align: middle;\n",
       "    }\n",
       "\n",
       "    .dataframe tbody tr th {\n",
       "        vertical-align: top;\n",
       "    }\n",
       "\n",
       "    .dataframe thead th {\n",
       "        text-align: right;\n",
       "    }\n",
       "</style>\n",
       "<table border=\"1\" class=\"dataframe\">\n",
       "  <thead>\n",
       "    <tr style=\"text-align: right;\">\n",
       "      <th></th>\n",
       "      <th>column_1</th>\n",
       "      <th>column_2</th>\n",
       "      <th>column_3</th>\n",
       "      <th>column_4</th>\n",
       "      <th>column_5</th>\n",
       "      <th>column_6</th>\n",
       "    </tr>\n",
       "  </thead>\n",
       "  <tbody>\n",
       "    <tr>\n",
       "      <th>1</th>\n",
       "      <td>0.187385</td>\n",
       "      <td>0.313003</td>\n",
       "      <td>0.073972</td>\n",
       "      <td>0.933580</td>\n",
       "      <td>0.396786</td>\n",
       "      <td>0.190883</td>\n",
       "    </tr>\n",
       "    <tr>\n",
       "      <th>2</th>\n",
       "      <td>0.569959</td>\n",
       "      <td>0.938929</td>\n",
       "      <td>0.669955</td>\n",
       "      <td>0.273359</td>\n",
       "      <td>0.108394</td>\n",
       "      <td>0.271152</td>\n",
       "    </tr>\n",
       "    <tr>\n",
       "      <th>3</th>\n",
       "      <td>0.653879</td>\n",
       "      <td>0.554300</td>\n",
       "      <td>0.225336</td>\n",
       "      <td>0.464994</td>\n",
       "      <td>0.229737</td>\n",
       "      <td>0.685335</td>\n",
       "    </tr>\n",
       "    <tr>\n",
       "      <th>4</th>\n",
       "      <td>0.198157</td>\n",
       "      <td>0.883008</td>\n",
       "      <td>0.835487</td>\n",
       "      <td>0.284703</td>\n",
       "      <td>0.704774</td>\n",
       "      <td>0.579999</td>\n",
       "    </tr>\n",
       "    <tr>\n",
       "      <th>5</th>\n",
       "      <td>0.924378</td>\n",
       "      <td>0.018207</td>\n",
       "      <td>0.471903</td>\n",
       "      <td>0.215904</td>\n",
       "      <td>0.025426</td>\n",
       "      <td>0.223028</td>\n",
       "    </tr>\n",
       "    <tr>\n",
       "      <th>6</th>\n",
       "      <td>0.782406</td>\n",
       "      <td>0.631878</td>\n",
       "      <td>0.510750</td>\n",
       "      <td>0.916153</td>\n",
       "      <td>0.770991</td>\n",
       "      <td>0.447247</td>\n",
       "    </tr>\n",
       "  </tbody>\n",
       "</table>\n",
       "</div>"
      ],
      "text/plain": [
       "   column_1  column_2  column_3  column_4  column_5  column_6\n",
       "1  0.187385  0.313003  0.073972  0.933580  0.396786  0.190883\n",
       "2  0.569959  0.938929  0.669955  0.273359  0.108394  0.271152\n",
       "3  0.653879  0.554300  0.225336  0.464994  0.229737  0.685335\n",
       "4  0.198157  0.883008  0.835487  0.284703  0.704774  0.579999\n",
       "5  0.924378  0.018207  0.471903  0.215904  0.025426  0.223028\n",
       "6  0.782406  0.631878  0.510750  0.916153  0.770991  0.447247"
      ]
     },
     "execution_count": 9,
     "metadata": {},
     "output_type": "execute_result"
    }
   ],
   "source": [
    "import pandas as pd\n",
    "import numpy as np\n",
    "columns = ['column_1', 'column_2', 'column_3', 'column_4', 'column_5', 'column_6']\n",
    "indices = [1,2,3,4,5,6]\n",
    "#Creating a dataframe:\n",
    "df1 = pd.DataFrame(np.random.rand(6,6), columns = columns, index = indices)\n",
    "df1"
   ]
  },
  {
   "cell_type": "code",
   "execution_count": 10,
   "id": "5f624971-dd38-4ecc-9148-45e5e0e8e9d6",
   "metadata": {},
   "outputs": [
    {
     "data": {
      "text/html": [
       "<div>\n",
       "<style scoped>\n",
       "    .dataframe tbody tr th:only-of-type {\n",
       "        vertical-align: middle;\n",
       "    }\n",
       "\n",
       "    .dataframe tbody tr th {\n",
       "        vertical-align: top;\n",
       "    }\n",
       "\n",
       "    .dataframe thead th {\n",
       "        text-align: right;\n",
       "    }\n",
       "</style>\n",
       "<table border=\"1\" class=\"dataframe\">\n",
       "  <thead>\n",
       "    <tr style=\"text-align: right;\">\n",
       "      <th></th>\n",
       "      <th>column_1</th>\n",
       "      <th>column_2</th>\n",
       "      <th>column_3</th>\n",
       "      <th>column_4</th>\n",
       "      <th>column_5</th>\n",
       "      <th>column_6</th>\n",
       "    </tr>\n",
       "  </thead>\n",
       "  <tbody>\n",
       "    <tr>\n",
       "      <th>mean</th>\n",
       "      <td>0.552694</td>\n",
       "      <td>0.556554</td>\n",
       "      <td>0.464567</td>\n",
       "      <td>0.514782</td>\n",
       "      <td>0.372685</td>\n",
       "      <td>0.399607</td>\n",
       "    </tr>\n",
       "  </tbody>\n",
       "</table>\n",
       "</div>"
      ],
      "text/plain": [
       "      column_1  column_2  column_3  column_4  column_5  column_6\n",
       "mean  0.552694  0.556554  0.464567  0.514782  0.372685  0.399607"
      ]
     },
     "execution_count": 10,
     "metadata": {},
     "output_type": "execute_result"
    }
   ],
   "source": [
    "#Ans4: \n",
    "mn=df1.describe()\n",
    "mn.loc[['mean']]"
   ]
  },
  {
   "cell_type": "code",
   "execution_count": 11,
   "id": "f1234ddf-e163-4c46-82a0-3ab5abbdcc61",
   "metadata": {},
   "outputs": [
    {
     "data": {
      "text/html": [
       "<div>\n",
       "<style scoped>\n",
       "    .dataframe tbody tr th:only-of-type {\n",
       "        vertical-align: middle;\n",
       "    }\n",
       "\n",
       "    .dataframe tbody tr th {\n",
       "        vertical-align: top;\n",
       "    }\n",
       "\n",
       "    .dataframe thead th {\n",
       "        text-align: right;\n",
       "    }\n",
       "</style>\n",
       "<table border=\"1\" class=\"dataframe\">\n",
       "  <thead>\n",
       "    <tr style=\"text-align: right;\">\n",
       "      <th></th>\n",
       "      <th>column_2</th>\n",
       "    </tr>\n",
       "  </thead>\n",
       "  <tbody>\n",
       "    <tr>\n",
       "      <th>std</th>\n",
       "      <td>0.348596</td>\n",
       "    </tr>\n",
       "  </tbody>\n",
       "</table>\n",
       "</div>"
      ],
      "text/plain": [
       "     column_2\n",
       "std  0.348596"
      ]
     },
     "execution_count": 11,
     "metadata": {},
     "output_type": "execute_result"
    }
   ],
   "source": [
    "mn.loc[['std'],['column_2']]"
   ]
  },
  {
   "cell_type": "code",
   "execution_count": 12,
   "id": "1a801c37-27f5-42b8-b313-0d5b537eb633",
   "metadata": {},
   "outputs": [],
   "source": [
    "#Ans5:\n",
    "df1['column_2']='Changed'"
   ]
  },
  {
   "cell_type": "code",
   "execution_count": 13,
   "id": "5345ceca-2b42-4ec6-aaa4-60273bc073c3",
   "metadata": {},
   "outputs": [
    {
     "name": "stdout",
     "output_type": "stream",
     "text": [
      "Could not convert ChangedChangedChangedChangedChangedChanged to numeric\n"
     ]
    }
   ],
   "source": [
    "try:\n",
    "    df1['column_2'].mean()\n",
    "except Exception as e:\n",
    "    print(e)\n",
    "# we will get the error from the code because the column_2 has only string data while mean function can only be applied to the \n",
    "# integer value only."
   ]
  },
  {
   "cell_type": "code",
   "execution_count": 14,
   "id": "d0affd1b-4b8a-46b8-8eef-44d3466a0af8",
   "metadata": {},
   "outputs": [],
   "source": [
    "#Ans6: window functions are the functions in pandas which is used to perform certain action on a number of rows in a dataset at same time.\n",
    "#    It helps to select the more then one rows without using any other things.\n",
    "    The types of rolling functions are: \n",
    "        (i). rolling\n",
    "        (ii). expending\n",
    "        (iii). ewm"
   ]
  },
  {
   "cell_type": "code",
   "execution_count": 20,
   "id": "4b5d2be3-6815-4f2a-a5a4-8b897f51be6d",
   "metadata": {},
   "outputs": [],
   "source": [
    "#Ans7: \n",
    "fd=pd.DataFrame(i,columns=['date'])\n",
    "i=['2023-03-05','2023-03-04']\n"
   ]
  },
  {
   "cell_type": "code",
   "execution_count": 35,
   "id": "9f6ae7d9-641e-4f7f-843b-374376fdcf4c",
   "metadata": {},
   "outputs": [
    {
     "name": "stdout",
     "output_type": "stream",
     "text": [
      "0    2023\n",
      "1    2023\n",
      "Name: date, dtype: int64\n",
      "0    3\n",
      "1    3\n",
      "Name: date, dtype: int64\n"
     ]
    }
   ],
   "source": [
    "fd['date']=pd.to_datetime(fd['date'])\n",
    "print(fd['date'].dt.year)\n",
    "print(fd['date'].dt.month)"
   ]
  },
  {
   "cell_type": "code",
   "execution_count": 41,
   "id": "6ed6139a-aa10-41cc-bb9f-bb6958d315ba",
   "metadata": {},
   "outputs": [
    {
     "name": "stdin",
     "output_type": "stream",
     "text": [
      "Enter starting date:  2023-03-01\n",
      "Enter final date:  2023-03-03\n"
     ]
    },
    {
     "data": {
      "text/plain": [
       "Timedelta('2 days 00:00:00')"
      ]
     },
     "execution_count": 41,
     "metadata": {},
     "output_type": "execute_result"
    }
   ],
   "source": [
    "#Ans8:\n",
    "in_date=input(\"Enter starting date: \")\n",
    "fn_date=input(\"Enter final date: \")\n",
    "start=pd.to_datetime(in_date)\n",
    "end=pd.to_datetime(fn_date)\n",
    "pd.Timedelta(end-start)"
   ]
  },
  {
   "cell_type": "code",
   "execution_count": 45,
   "id": "160b2643-3522-4ef6-9ff5-96be041e5e07",
   "metadata": {},
   "outputs": [
    {
     "name": "stdin",
     "output_type": "stream",
     "text": [
      "Enter the path of the file:  Titanic.csv\n",
      "Enter the name of column:  parch\n",
      "Enter the category:  2324\n"
     ]
    },
    {
     "name": "stdout",
     "output_type": "stream",
     "text": [
      "        sex   age  sibsp parch     fare embarked   class    who  alone  \\\n",
      "0      male  22.0      1     0   7.2500        S   Third    man  False   \n",
      "545    male  64.0      0     0  26.0000        S   First    man   True   \n",
      "546  female  19.0      1     0  26.0000        S  Second  woman  False   \n",
      "547    male   NaN      0     0  13.8625        C  Second    man   True   \n",
      "551    male  27.0      0     0  26.0000        S  Second    man   True   \n",
      "..      ...   ...    ...   ...      ...      ...     ...    ...    ...   \n",
      "13     male  39.0      1     5  31.2750        S   Third    man  False   \n",
      "25   female  38.0      1     5  31.3875        S   Third  woman  False   \n",
      "885  female  39.0      0     5  29.1250        Q   Third  woman  False   \n",
      "638  female  41.0      0     5  39.6875        S   Third  woman  False   \n",
      "678  female  43.0      1     6  46.9000        S   Third  woman  False   \n",
      "\n",
      "     survived  \n",
      "0           0  \n",
      "545         0  \n",
      "546         1  \n",
      "547         1  \n",
      "551         0  \n",
      "..        ...  \n",
      "13          0  \n",
      "25          1  \n",
      "885         0  \n",
      "638         0  \n",
      "678         0  \n",
      "\n",
      "[891 rows x 10 columns]\n"
     ]
    }
   ],
   "source": [
    "path=input(\"Enter the path of the file: \")\n",
    "col_name=input(\"Enter the name of column: \")\n",
    "cate_order=list(input(\"Enter the category: \"))\n",
    "\n",
    "df5=pd.read_csv(path)\n",
    "\n",
    "df5[col_name]=pd.Categorical(df5[col_name],categories=cate_order)\n",
    "\n",
    "sorted_df=df5.sort_values(by=col_name)\n",
    "\n",
    "print(sorted_df)"
   ]
  },
  {
   "cell_type": "code",
   "execution_count": null,
   "id": "4139b6a0-b2bc-4760-b133-9e5459710fc4",
   "metadata": {},
   "outputs": [],
   "source": [
    "#Ans10:\n",
    "pth=input(\"Enter the path: \")\n",
    "df6=pd.read_csv(pth)\n",
    "smpl_df=df6['sales']\n",
    "smpl_df.plot.pie()"
   ]
  },
  {
   "cell_type": "code",
   "execution_count": 9,
   "id": "d09a344d-846f-45f5-b753-3845db7bd0da",
   "metadata": {},
   "outputs": [
    {
     "name": "stdin",
     "output_type": "stream",
     "text": [
      "Enter the path:  q11.csv\n"
     ]
    },
    {
     "data": {
      "text/html": [
       "<div>\n",
       "<style scoped>\n",
       "    .dataframe tbody tr th:only-of-type {\n",
       "        vertical-align: middle;\n",
       "    }\n",
       "\n",
       "    .dataframe tbody tr th {\n",
       "        vertical-align: top;\n",
       "    }\n",
       "\n",
       "    .dataframe thead th {\n",
       "        text-align: right;\n",
       "    }\n",
       "</style>\n",
       "<table border=\"1\" class=\"dataframe\">\n",
       "  <thead>\n",
       "    <tr style=\"text-align: right;\">\n",
       "      <th></th>\n",
       "      <th>mean</th>\n",
       "      <th>median</th>\n",
       "      <th>mode</th>\n",
       "    </tr>\n",
       "  </thead>\n",
       "  <tbody>\n",
       "    <tr>\n",
       "      <th>0</th>\n",
       "      <td>83.5</td>\n",
       "      <td>85.0</td>\n",
       "      <td>85</td>\n",
       "    </tr>\n",
       "  </tbody>\n",
       "</table>\n",
       "</div>"
      ],
      "text/plain": [
       "   mean  median  mode\n",
       "0  83.5    85.0    85"
      ]
     },
     "execution_count": 9,
     "metadata": {},
     "output_type": "execute_result"
    }
   ],
   "source": [
    "#Ans11:\n",
    "pt=input(\"Enter the path: \")\n",
    "df7=pd.read_csv(pt)\n",
    "details=df7.describe()\n",
    "dt=details[['Test Score']]\n",
    "new_df=pd.DataFrame(columns=['mean','median','mode'])\n",
    "new_df['mean']=[df7['Test Score'].mean()]\n",
    "new_df['median']=[df7['Test Score'].median()]\n",
    "new_df['mode']=df7['Test Score'].mode()\n",
    "new_df\n"
   ]
  },
  {
   "cell_type": "code",
   "execution_count": null,
   "id": "bdd72a64-374c-4146-8435-6cd05c5de6be",
   "metadata": {},
   "outputs": [],
   "source": []
  }
 ],
 "metadata": {
  "kernelspec": {
   "display_name": "Python 3 (ipykernel)",
   "language": "python",
   "name": "python3"
  },
  "language_info": {
   "codemirror_mode": {
    "name": "ipython",
    "version": 3
   },
   "file_extension": ".py",
   "mimetype": "text/x-python",
   "name": "python",
   "nbconvert_exporter": "python",
   "pygments_lexer": "ipython3",
   "version": "3.10.8"
  }
 },
 "nbformat": 4,
 "nbformat_minor": 5
}
